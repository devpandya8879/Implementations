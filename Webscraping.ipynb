{
 "cells": [
  {
   "cell_type": "code",
   "execution_count": 1,
   "id": "1d3e82f7",
   "metadata": {},
   "outputs": [],
   "source": [
    "from autoscraper import AutoScraper"
   ]
  },
  {
   "cell_type": "code",
   "execution_count": 2,
   "id": "52e44622",
   "metadata": {},
   "outputs": [],
   "source": [
    "amazon_url=\"https://www.amazon.in/s?k=iphones\"\n",
    "\n",
    "wanted_list=[\"₹60,900\",\"Apple iPhone 12 (128GB) - Blue\"]"
   ]
  },
  {
   "cell_type": "code",
   "execution_count": 3,
   "id": "c04a4937",
   "metadata": {},
   "outputs": [
    {
     "name": "stdout",
     "output_type": "stream",
     "text": [
      "['₹70,900', '₹79,900', '₹60,900', '₹1,30,900', '₹1,39,900', '₹89,900', '₹1,10,900', '₹1,19,900', '₹54,999', '₹64,900', '₹44,990', '₹49,900', '₹46,900', '₹48,900', '₹54,900', 'Apple iPhone 13 (128GB) - Midnight', 'Apple iPhone 13 (128GB) - Blue', 'Apple iPhone 13 (128GB) - Starlight', 'Apple iPhone 13 (128GB) - Green', 'Apple iPhone 13 (128GB) - Pink', 'Apple iPhone 12 (128GB) - Blue', 'Apple iPhone 13 Pro Max (256GB) - Sierra Blue', 'Apple iPhone 13 (256 GB) - Green', 'Apple iPhone 13 (128GB) - (Product) RED', 'Apple iPhone 13 Pro (128GB) - Sierra Blue', 'Apple iPhone 12 Mini (128GB) - Blue', 'Apple iPhone 13 (256GB) - Blue', 'Apple iPhone 13 (256GB) - Midnight', 'Apple iPhone 11 (64GB) - (Product) RED', 'Apple iPhone SE (128 GB) - (Product) RED (3rd Generation)', 'Apple iPhone 11 (128GB) - Purple']\n"
     ]
    }
   ],
   "source": [
    "scraper=AutoScraper()\n",
    "result=scraper.build(amazon_url,wanted_list)\n",
    "print(result)"
   ]
  },
  {
   "cell_type": "code",
   "execution_count": 4,
   "id": "85b60fb1",
   "metadata": {},
   "outputs": [
    {
     "data": {
      "text/plain": [
       "{'rule_aqua': ['₹70,900',\n",
       "  '₹79,900',\n",
       "  '₹70,900',\n",
       "  '₹79,900',\n",
       "  '₹70,900',\n",
       "  '₹79,900',\n",
       "  '₹70,900',\n",
       "  '₹79,900',\n",
       "  '₹70,900',\n",
       "  '₹79,900',\n",
       "  '₹60,900',\n",
       "  '₹70,900',\n",
       "  '₹1,30,900',\n",
       "  '₹1,39,900',\n",
       "  '₹79,900',\n",
       "  '₹89,900',\n",
       "  '₹70,900',\n",
       "  '₹79,900',\n",
       "  '₹1,10,900',\n",
       "  '₹1,19,900',\n",
       "  '₹54,999',\n",
       "  '₹64,900',\n",
       "  '₹79,900',\n",
       "  '₹89,900',\n",
       "  '₹79,900',\n",
       "  '₹89,900',\n",
       "  '₹44,990',\n",
       "  '₹49,900',\n",
       "  '₹46,900',\n",
       "  '₹48,900',\n",
       "  '₹49,900',\n",
       "  '₹54,900'],\n",
       " 'rule_5es3': ['₹70,900',\n",
       "  '₹79,900',\n",
       "  '₹70,900',\n",
       "  '₹79,900',\n",
       "  '₹70,900',\n",
       "  '₹79,900',\n",
       "  '₹70,900',\n",
       "  '₹79,900',\n",
       "  '₹70,900',\n",
       "  '₹79,900',\n",
       "  '₹60,900',\n",
       "  '₹70,900',\n",
       "  '₹1,30,900',\n",
       "  '₹1,39,900',\n",
       "  '₹79,900',\n",
       "  '₹89,900',\n",
       "  '₹70,900',\n",
       "  '₹79,900',\n",
       "  '₹1,10,900',\n",
       "  '₹1,19,900',\n",
       "  '₹54,999',\n",
       "  '₹64,900',\n",
       "  '₹79,900',\n",
       "  '₹89,900',\n",
       "  '₹79,900',\n",
       "  '₹89,900',\n",
       "  '₹44,990',\n",
       "  '₹49,900',\n",
       "  '₹46,900',\n",
       "  '₹48,900',\n",
       "  '₹49,900',\n",
       "  '₹54,900'],\n",
       " 'rule_4vkt': ['₹60,900', '₹70,900', '₹49,900', '₹54,900'],\n",
       " 'rule_me6f': ['₹60,900', '₹70,900', '₹49,900', '₹54,900'],\n",
       " 'rule_zv7h': ['Apple iPhone 13 (128GB) - Midnight',\n",
       "  'Apple iPhone 13 (128GB) - Blue',\n",
       "  'Apple iPhone 13 (128GB) - Starlight',\n",
       "  'Apple iPhone 13 (128GB) - Green',\n",
       "  'Apple iPhone 13 (128GB) - Pink',\n",
       "  'Apple iPhone 12 (128GB) - Blue',\n",
       "  'Apple iPhone 13 Pro Max (256GB) - Sierra Blue',\n",
       "  'Apple iPhone 13 (256 GB) - Green',\n",
       "  'Apple iPhone 13 (128GB) - (Product) RED',\n",
       "  'Apple iPhone 13 Pro (128GB) - Sierra Blue',\n",
       "  'Apple iPhone 12 Mini (128GB) - Blue',\n",
       "  'Apple iPhone 13 (256GB) - Blue',\n",
       "  'Apple iPhone 13 (256GB) - Midnight',\n",
       "  'Apple iPhone 11 (64GB) - (Product) RED',\n",
       "  'Apple iPhone SE (128 GB) - (Product) RED (3rd Generation)',\n",
       "  'Apple iPhone 11 (128GB) - Purple'],\n",
       " 'rule_u7cr': ['Apple iPhone 13 (128GB) - Midnight',\n",
       "  'Apple iPhone 13 (128GB) - Blue',\n",
       "  'Apple iPhone 13 (128GB) - Starlight',\n",
       "  'Apple iPhone 13 (128GB) - Green',\n",
       "  'Apple iPhone 13 (128GB) - Pink',\n",
       "  'Apple iPhone 12 (128GB) - Blue',\n",
       "  'Apple iPhone 13 Pro Max (256GB) - Sierra Blue',\n",
       "  'Apple iPhone 13 (256 GB) - Green',\n",
       "  'Apple iPhone 13 (128GB) - (Product) RED',\n",
       "  'Apple iPhone 13 Pro (128GB) - Sierra Blue',\n",
       "  'Apple iPhone 12 Mini (128GB) - Blue',\n",
       "  'Apple iPhone 13 (256GB) - Blue',\n",
       "  'Apple iPhone 13 (256GB) - Midnight',\n",
       "  'Apple iPhone 11 (64GB) - (Product) RED',\n",
       "  'Apple iPhone SE (128 GB) - (Product) RED (3rd Generation)',\n",
       "  'Apple iPhone 11 (128GB) - Purple'],\n",
       " 'rule_4nuo': ['Apple iPhone 12 (128GB) - Blue',\n",
       "  'Apple iPhone 11 (128GB) - Purple']}"
      ]
     },
     "execution_count": 4,
     "metadata": {},
     "output_type": "execute_result"
    }
   ],
   "source": [
    "scraper.get_result_similar(amazon_url,grouped=True)"
   ]
  },
  {
   "cell_type": "code",
   "execution_count": 6,
   "id": "6b9a4bdf",
   "metadata": {},
   "outputs": [],
   "source": [
    "scraper.set_rule_aliases({'rule_zv7h':'Title','rule_5es3':'Price'})\n",
    "scraper.keep_rules(['rule_zv7h','rule_5es3'])\n",
    "scraper.save('amazon-search')"
   ]
  },
  {
   "cell_type": "code",
   "execution_count": 2,
   "id": "53a017fa",
   "metadata": {},
   "outputs": [
    {
     "ename": "NameError",
     "evalue": "name 'scraper' is not defined",
     "output_type": "error",
     "traceback": [
      "\u001b[1;31m---------------------------------------------------------------------------\u001b[0m",
      "\u001b[1;31mNameError\u001b[0m                                 Traceback (most recent call last)",
      "Input \u001b[1;32mIn [2]\u001b[0m, in \u001b[0;36m<cell line: 1>\u001b[1;34m()\u001b[0m\n\u001b[1;32m----> 1\u001b[0m results\u001b[38;5;241m=\u001b[39m\u001b[43mscraper\u001b[49m\u001b[38;5;241m.\u001b[39mget_result_similar(\u001b[38;5;124m'\u001b[39m\u001b[38;5;124mhttps://www.amazon.in/s?k=mi+phones\u001b[39m\u001b[38;5;124m'\u001b[39m,group_by_alias\u001b[38;5;241m=\u001b[39m\u001b[38;5;28;01mTrue\u001b[39;00m)\n",
      "\u001b[1;31mNameError\u001b[0m: name 'scraper' is not defined"
     ]
    }
   ],
   "source": [
    "results=scraper.get_result_similar('https://www.amazon.in/s?k=mi+phones',group_by_alias=True)"
   ]
  },
  {
   "cell_type": "raw",
   "id": "a8942320",
   "metadata": {},
   "source": []
  },
  {
   "cell_type": "code",
   "execution_count": 1,
   "id": "4aefc0ee",
   "metadata": {},
   "outputs": [
    {
     "ename": "NameError",
     "evalue": "name 'results' is not defined",
     "output_type": "error",
     "traceback": [
      "\u001b[1;31m---------------------------------------------------------------------------\u001b[0m",
      "\u001b[1;31mNameError\u001b[0m                                 Traceback (most recent call last)",
      "Input \u001b[1;32mIn [1]\u001b[0m, in \u001b[0;36m<cell line: 1>\u001b[1;34m()\u001b[0m\n\u001b[1;32m----> 1\u001b[0m \u001b[43mresults\u001b[49m[\u001b[38;5;124m'\u001b[39m\u001b[38;5;124mTitle\u001b[39m\u001b[38;5;124m'\u001b[39m]\n",
      "\u001b[1;31mNameError\u001b[0m: name 'results' is not defined"
     ]
    }
   ],
   "source": [
    "results['Title']"
   ]
  },
  {
   "cell_type": "code",
   "execution_count": null,
   "id": "75a572dd",
   "metadata": {},
   "outputs": [],
   "source": []
  }
 ],
 "metadata": {
  "kernelspec": {
   "display_name": "Python 3 (ipykernel)",
   "language": "python",
   "name": "python3"
  },
  "language_info": {
   "codemirror_mode": {
    "name": "ipython",
    "version": 3
   },
   "file_extension": ".py",
   "mimetype": "text/x-python",
   "name": "python",
   "nbconvert_exporter": "python",
   "pygments_lexer": "ipython3",
   "version": "3.10.4"
  }
 },
 "nbformat": 4,
 "nbformat_minor": 5
}
